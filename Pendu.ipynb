{
 "metadata": {
  "language_info": {
   "codemirror_mode": {
    "name": "ipython",
    "version": 3
   },
   "file_extension": ".py",
   "mimetype": "text/x-python",
   "name": "python",
   "nbconvert_exporter": "python",
   "pygments_lexer": "ipython3",
   "version": "2.7.16-final"
  },
  "orig_nbformat": 2,
  "kernelspec": {
   "name": "python3",
   "display_name": "Python 2.7.16 64-bit",
   "metadata": {
    "interpreter": {
     "hash": "767d51c1340bd893661ea55ea3124f6de3c7a262a8b4abca0554b478b1e2ff90"
    }
   }
  }
 },
 "nbformat": 4,
 "nbformat_minor": 2,
 "cells": [
  {
   "cell_type": "code",
   "execution_count": 1,
   "metadata": {},
   "outputs": [],
   "source": [
    "import pandas as pd"
   ]
  },
  {
   "cell_type": "code",
   "execution_count": 2,
   "metadata": {},
   "outputs": [],
   "source": [
    "df = pd.read_excel (r'MotsPendu.xlsx')"
   ]
  },
  {
   "cell_type": "code",
   "execution_count": 3,
   "metadata": {},
   "outputs": [
    {
     "output_type": "execute_result",
     "data": {
      "text/html": "<div>\n<style scoped>\n    .dataframe tbody tr th:only-of-type {\n        vertical-align: middle;\n    }\n\n    .dataframe tbody tr th {\n        vertical-align: top;\n    }\n\n    .dataframe thead th {\n        text-align: right;\n    }\n</style>\n<table border=\"1\" class=\"dataframe\">\n  <thead>\n    <tr style=\"text-align: right;\">\n      <th></th>\n      <th>sushi</th>\n    </tr>\n  </thead>\n  <tbody>\n    <tr>\n      <th>0</th>\n      <td>maki</td>\n    </tr>\n    <tr>\n      <th>1</th>\n      <td>gourde</td>\n    </tr>\n    <tr>\n      <th>2</th>\n      <td>kinder</td>\n    </tr>\n    <tr>\n      <th>3</th>\n      <td>manger</td>\n    </tr>\n    <tr>\n      <th>4</th>\n      <td>carotte</td>\n    </tr>\n    <tr>\n      <th>5</th>\n      <td>roller</td>\n    </tr>\n    <tr>\n      <th>6</th>\n      <td>iphone</td>\n    </tr>\n    <tr>\n      <th>7</th>\n      <td>gateau</td>\n    </tr>\n    <tr>\n      <th>8</th>\n      <td>chomage</td>\n    </tr>\n    <tr>\n      <th>9</th>\n      <td>hamster</td>\n    </tr>\n    <tr>\n      <th>10</th>\n      <td>poule</td>\n    </tr>\n    <tr>\n      <th>11</th>\n      <td>bowling</td>\n    </tr>\n    <tr>\n      <th>12</th>\n      <td>magie</td>\n    </tr>\n    <tr>\n      <th>13</th>\n      <td>enfant</td>\n    </tr>\n    <tr>\n      <th>14</th>\n      <td>potiron</td>\n    </tr>\n  </tbody>\n</table>\n</div>",
      "text/plain": [
       "      sushi\n",
       "0      maki\n",
       "1    gourde\n",
       "2    kinder\n",
       "3    manger\n",
       "4   carotte\n",
       "5    roller\n",
       "6    iphone\n",
       "7    gateau\n",
       "8   chomage\n",
       "9   hamster\n",
       "10    poule\n",
       "11  bowling\n",
       "12    magie\n",
       "13   enfant\n",
       "14  potiron"
      ]
     },
     "metadata": {},
     "execution_count": 3
    }
   ],
   "source": [
    "df"
   ]
  },
  {
   "cell_type": "code",
   "execution_count": 4,
   "metadata": {},
   "outputs": [],
   "source": [
    "mots_liste = df[\"sushi\"].tolist()"
   ]
  },
  {
   "cell_type": "code",
   "execution_count": 10,
   "metadata": {},
   "outputs": [
    {
     "output_type": "execute_result",
     "data": {
      "text/plain": [
       "[u'maki',\n",
       " u'gourde',\n",
       " u'kinder',\n",
       " u'manger',\n",
       " u'carotte',\n",
       " u'roller',\n",
       " u'iphone',\n",
       " u'gateau',\n",
       " u'chomage',\n",
       " u'hamster',\n",
       " u'poule',\n",
       " u'bowling',\n",
       " u'magie',\n",
       " u'enfant',\n",
       " u'potiron']"
      ]
     },
     "metadata": {},
     "execution_count": 10
    }
   ],
   "source": [
    "mots_liste"
   ]
  },
  {
   "cell_type": "code",
   "execution_count": 11,
   "metadata": {},
   "outputs": [],
   "source": [
    "import random"
   ]
  },
  {
   "cell_type": "code",
   "execution_count": 12,
   "metadata": {},
   "outputs": [],
   "source": [
    "x=random.choice(mots_liste)"
   ]
  },
  {
   "cell_type": "code",
   "execution_count": 13,
   "metadata": {},
   "outputs": [
    {
     "output_type": "stream",
     "name": "stdout",
     "text": [
      "_\n_\n_\n_\n_\n_\n"
     ]
    }
   ],
   "source": [
    "for element in x:\n",
    "    print(\"_\")"
   ]
  },
  {
   "cell_type": "code",
   "execution_count": 15,
   "metadata": {},
   "outputs": [],
   "source": [
    "letters_to_guess=list(set([letter for letter in x]))\n",
    "guessed_letters=[]"
   ]
  },
  {
   "cell_type": "code",
   "execution_count": 16,
   "metadata": {},
   "outputs": [],
   "source": [
    "pendu=0"
   ]
  },
  {
   "cell_type": "code",
   "execution_count": 14,
   "metadata": {},
   "outputs": [],
   "source": [
    "y=input(\"Propose une lettre\")"
   ]
  },
  {
   "cell_type": "code",
   "execution_count": 17,
   "metadata": {},
   "outputs": [],
   "source": [
    "while len(letters_to_guess)>0 and int(pendu)<10:\n",
    "    if y in letters_to_guess:\n",
    "     guessed_letters.extend(y)\n",
    "     letters_to_guess.remove(y)\n",
    "else:\n",
    "    pendu=pendu+1"
   ]
  },
  {
   "cell_type": "code",
   "execution_count": null,
   "metadata": {},
   "outputs": [],
   "source": [
    "for element in x:\n",
    "    if element in guessed_letters\n",
    "        print element\n",
    "    else print (\"_\")"
   ]
  },
  {
   "cell_type": "code",
   "execution_count": null,
   "metadata": {},
   "outputs": [],
   "source": []
  }
 ]
}